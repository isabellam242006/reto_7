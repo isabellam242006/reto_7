{
  "nbformat": 4,
  "nbformat_minor": 0,
  "metadata": {
    "colab": {
      "provenance": [],
      "authorship_tag": "ABX9TyN+9U5t+qnyealS6gGrl1IY",
      "include_colab_link": true
    },
    "kernelspec": {
      "name": "python3",
      "display_name": "Python 3"
    },
    "language_info": {
      "name": "python"
    }
  },
  "cells": [
    {
      "cell_type": "markdown",
      "metadata": {
        "id": "view-in-github",
        "colab_type": "text"
      },
      "source": [
        "<a href=\"https://colab.research.google.com/github/isabellam242006/reto_7/blob/main/Reto7.ipynb\" target=\"_parent\"><img src=\"https://colab.research.google.com/assets/colab-badge.svg\" alt=\"Open In Colab\"/></a>"
      ]
    },
    {
      "cell_type": "markdown",
      "source": [
        "#***Reto 7***"
      ],
      "metadata": {
        "id": "cBJnzapk8EuI"
      }
    },
    {
      "cell_type": "markdown",
      "source": [
        "1. Imprimir un listado con los números del 1 al 100 cada uno con su respectivo cuadrado:\n",
        "\n",
        "*Para este punto primero se inicializó la variable i en cero. Luego se utilizó ```while``` para hacer una iteración en la que se vaya haciendo una lista de números consecutivos (Sumando de uno en uno) así hasta llegar a cien. Cuando se llega a cien, se imprime la lista junto con su respectivo cuadrado separado por comas.*\n"
      ],
      "metadata": {
        "id": "BjYgm7rL8Nw1"
      }
    },
    {
      "cell_type": "code",
      "source": [
        "i= 0\n",
        "while i < 100:\n",
        "    i +=1\n",
        "    print(i,i**2, sep=\",\")\n",
        ""
      ],
      "metadata": {
        "id": "YXEAbUDd8wfU"
      },
      "execution_count": null,
      "outputs": []
    },
    {
      "cell_type": "markdown",
      "source": [
        "2. Imprimir un listado con los números impares desde 1 hasta 999 y seguidamente otro listado con los números pares desde 2 hasta 1000.\n",
        "\n",
        "*Para este punto utilicé ```while``` para hacer una lista de desde 1 hasta 999. Para la primera parte (Sólo números impares) agregué la condición de que si el residuo entre la variable i y 2 es cero, entonces que siga con el siguiente número y ese no lo tome en cuenta (Para esto utilicé ```Continue```.) En la segunda parte (Sólo números pares) hice la condición contraria y ahora en este caso la lista irá desde 2 hasta 1000.*"
      ],
      "metadata": {
        "id": "Y4uz0yT58yn8"
      }
    },
    {
      "cell_type": "code",
      "source": [
        "i=0\n",
        "while i < 999:\n",
        "  i+=1\n",
        "  if i%2==0:\n",
        "    continue\n",
        "  print(i)\n",
        "\n",
        "i=1\n",
        "while i < 1000:\n",
        "  i+=1\n",
        "  if i%2!=0:\n",
        "    continue\n",
        "  print(i)"
      ],
      "metadata": {
        "id": "I_750VD9832k"
      },
      "execution_count": null,
      "outputs": []
    },
    {
      "cell_type": "markdown",
      "source": [
        "3. Imprimir los números pares en forma descendente hasta 2 que son menores o iguales a un número natural n ≥ 2 dado\n",
        "\n",
        "*Sabemos que el número debe ser mayor o igual que dos, asi que mientras se cumpla esto, se deberá restar a i consecutivamente hasta llegar hasta dos, pero solo imprimiendo los números que complan con la condición de ser pares. Es decir que ```n%2 = 0``` se cumpla. El bucle ```n-=1``` debe ponerse luego del ```print``` para que también se imprima el número dado en caso tal de que fuera par*"
      ],
      "metadata": {
        "id": "eRgkaiCK8-6L"
      }
    },
    {
      "cell_type": "code",
      "source": [
        "n = int(input(\"Ingrese un número natural mayor o igual a dos: \"))\n",
        "\n",
        "if n >= 2:\n",
        "    while n >= 2:\n",
        "        if n % 2 == 0:\n",
        "            print(n)\n",
        "        n -= 1\n",
        "else:\n",
        "    print(\"El número debe ser mayor o igual a dos.\")"
      ],
      "metadata": {
        "id": "reW4Z9Ti9B07"
      },
      "execution_count": null,
      "outputs": []
    },
    {
      "cell_type": "markdown",
      "source": [
        "4. En 2022 el país A tendrá una población de 25 millones de habitantes y el país B de 18.9 millones. Las tasas de crecimiento anual de la población serán de 2% y 3% respectivamente. Desarrollar un algoritmo para informar en que año la población del país B superará a la de A.\n"
      ],
      "metadata": {
        "id": "aMBzfBqk9Enr"
      }
    },
    {
      "cell_type": "code",
      "source": [
        "año: int = 2022 #Inicialización año\n",
        "A : float = 25 #Inicialización A\n",
        "B : float = 18.9 #Inicialización B\n",
        "while B<=A:  #Mientras B sea menor que A\n",
        "    A+= (0.02*A) #Multiplica A por 0.02 y súmale al valor actual de A\n",
        "    B+= (0.03*B) #Multiplica B por 0.03 y súmale al valor actual de B\n",
        "    año+=1 #Suma 1 al año actual, consecutivamente\n",
        "\n",
        "print(\"Para el año \" + str(año)  +  \" la población B superará a la población A\")"
      ],
      "metadata": {
        "id": "tJqe-9yS9FXS"
      },
      "execution_count": null,
      "outputs": []
    },
    {
      "cell_type": "markdown",
      "source": [
        "5. Imprimir el factorial de un número natural n dado.\n",
        "\n",
        "*Para este punto se utilizó ```while``` de tal forma que se pudiera iterar con respecto a un valor dado. Este valor se va a restar consecutivamente hasta llegar a 1 a la medida que se multiplican todos los resultados. Adicional se tiene la condición de que si n, que es el valor dado, es igual a 0 o 1, automáticamente el factorial será 1.*"
      ],
      "metadata": {
        "id": "1OX6qHQP9KAC"
      }
    },
    {
      "cell_type": "code",
      "source": [
        "def calcular_factorial(n: int) -> int:\n",
        "    if n == 0 or n == 1:\n",
        "        return 1\n",
        "    else:\n",
        "        factorial = 1\n",
        "        while n > 1:\n",
        "            factorial *= n\n",
        "            n -= 1\n",
        "        return factorial\n",
        "\n",
        "if __name__ == \"__main__\":\n",
        "    n = int(input(\"ingrese un número natural: \"))\n",
        "    factorial=calcular_factorial(n)\n",
        "print(\"El factorial de \" + str(n) + \" es \" + str(factorial))"
      ],
      "metadata": {
        "id": "PVKomCiy9Mwz"
      },
      "execution_count": null,
      "outputs": []
    },
    {
      "cell_type": "markdown",
      "source": [
        "6. Implementar un algoritmo que permita adivinar un número dado de 1 a 100, preguntando en cada caso si el número es mayor, menor o igual.\n",
        "*Para este punto se importó la función ```Random``` la cual nos dará un número aleatorio. Luego de pedir a la persona que piense en un número, este número saldrá y la persona tendrá que decir si es \"menor\", \"igual\" o \"mayor\". Si el número dado es mayor o menor, se hace una condición para que el rango de números aleatorios se reduzca, de tal manera que se pueda adivinar el número. Si el número dado es igual al número aleatorio entonces el programa lo ha adivinado. Adicionalmente se usó una bandera para que el programa se ejecute correctamente y pueda iterarse cuantas veces sea necesario.*"
      ],
      "metadata": {
        "id": "NrSsJhfC9O_r"
      }
    },
    {
      "cell_type": "code",
      "source": [
        "import random\n",
        "\n",
        "print(\"Piensa en un número de 1 a 100\")\n",
        "numero_minimo = 1\n",
        "numero_maximo = 100\n",
        "num_random = random.randrange(numero_minimo, numero_maximo)\n",
        "bandera = True\n",
        "\n",
        "while bandera or respuesta != \"igual\":\n",
        "    bandera = False\n",
        "    respuesta = input(\"El número \" + str(num_random) + \" es igual, mayor o menor que el número en el que pensaste. Pon solo la palabra, todo en minúsculas: \")\n",
        "    if respuesta == \"mayor\":\n",
        "        numero_maximo = num_random\n",
        "        num_random = random.randrange(numero_minimo, numero_maximo)\n",
        "    elif respuesta == \"menor\":\n",
        "        numero_minimo = num_random\n",
        "        num_random = random.randrange(numero_minimo, numero_maximo)\n",
        "    elif respuesta ==\"igual\":\n",
        "      print(\"El número que has pensado es \" + str(num_random))\n",
        "    else:\n",
        "      print(\"Recuerda escribir todo en minúsculas, revisa que hayas escrito correctamente la palabra\")"
      ],
      "metadata": {
        "id": "MUB-EfWL9XLr"
      },
      "execution_count": null,
      "outputs": []
    },
    {
      "cell_type": "markdown",
      "source": [
        "7.Implementar un programa que ingrese un número de 2 a 50 y muestre sus divisores.\n",
        "\n",
        "*Para este punto se plantearon las condiciones, en las que si el residuo entre una variable i y una variable n da cero, entonces la variable n será divisor de la variable i. Primero se inicializan las variables, luego nos aseguramos de que la variable n se incrementa en uno para poder verificar cada número como posible divisor y por último se plantea la condición antes mencionada para luego imprimir el resultado. También nos aseguramos de que i esté dentro del rango deseado*"
      ],
      "metadata": {
        "id": "1fC36gtg9a9q"
      }
    },
    {
      "cell_type": "code",
      "source": [
        "n = 0\n",
        "i = int(input(\"ingrese un número natural entre 2 y 50: \"))\n",
        "\n",
        "while n<=i:\n",
        "  n+=1\n",
        "  if i%n==0 and i!=0 and i!=1 and i<50:\n",
        "    print(n, end=\",\")\n",
        "\n",
        "if i == 0 or i==1:\n",
        "  print(\"Ingrese un número mayor o igual a dos \")\n",
        "elif i >50:\n",
        "  print(\"Ingrese un menor o igual a cincuenta \")\n",
        "\n",
        "print(\" son los divisores de \" + str(i))"
      ],
      "metadata": {
        "colab": {
          "base_uri": "https://localhost:8080/"
        },
        "id": "GpJYqoxj9eoT",
        "outputId": "b2bc417c-5603-4fe7-c7c1-7edf22e28251"
      },
      "execution_count": 10,
      "outputs": [
        {
          "output_type": "stream",
          "name": "stdout",
          "text": [
            "ingrese un número natural entre 2 y 50: 8\n",
            "1,2,4,8, son los divisores de 8\n"
          ]
        }
      ]
    },
    {
      "cell_type": "markdown",
      "source": [
        "8. Implementar el algoritmo que muestre los números primos del 1 al 100. Nota: use funciones"
      ],
      "metadata": {
        "id": "c5cKm-yd9iuC"
      }
    },
    {
      "cell_type": "code",
      "source": [
        "def calcular_numeros_primos(n):  #Definimos función\n",
        "    while n <= 100:              #Hasta que n sea menor o igual que 100\n",
        "        i = 2                    #Definimos i desde 2, ya que si lo definimos desde 1 sabemos que no podremos saber si n es un número es primo\n",
        "        es_primo = True          #Definimos la función como verdadera\n",
        "        while i < n:             #Desde que n sea mayor que i:\n",
        "            if n % i == 0:       #Si el cociente entre n e i es cero\n",
        "                es_primo = False #Entonces es_primo es false, por lo que no se trata de un número primo\n",
        "                break            #Termina la iteración\n",
        "            i += 1               #Sumamos 1 para seguir mirando si el siguiente número i cumple con dicha condición\n",
        "        if es_primo:             #Si es_primo (Se trata de un número primo)\n",
        "            print(n)             #Imprima n\n",
        "        n += 1                   #Sume uno y siga mirando si el siguiente número n es primo\n",
        "\n",
        "if __name__ == \"__main__\":\n",
        "    n = 2                        #Definimos n\n",
        "    calcular_numeros_primos(n)\n",
        "```\n",
        "\n",
        ""
      ],
      "metadata": {
        "id": "0sw--fBY9mRJ"
      },
      "execution_count": null,
      "outputs": []
    }
  ]
}